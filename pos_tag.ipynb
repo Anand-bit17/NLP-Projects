{
 "cells": [
  {
   "cell_type": "code",
   "execution_count": 19,
   "id": "809edbd2",
   "metadata": {},
   "outputs": [],
   "source": [
    "import nltk\n",
    "from nltk import pos_tag\n",
    "from nltk.corpus import stopwords\n",
    "from nltk.tokenize import sent_tokenize, word_tokenize"
   ]
  },
  {
   "cell_type": "code",
   "execution_count": 20,
   "id": "2c3ad3f2",
   "metadata": {},
   "outputs": [],
   "source": [
    "sample_text=\"I was walking by the road when a saw the cutest puppy on other side\""
   ]
  },
  {
   "cell_type": "code",
   "execution_count": 12,
   "id": "f0e50da6",
   "metadata": {},
   "outputs": [
    {
     "name": "stdout",
     "output_type": "stream",
     "text": [
      "[('I', 'PRP'), ('was', 'VBD'), ('walking', 'VBG'), ('by', 'IN'), ('the', 'DT'), ('road', 'NN'), ('when', 'WRB'), ('a', 'DT'), ('saw', 'VBD'), ('the', 'DT'), ('cutest', 'JJS'), ('puppy', 'NN'), ('on', 'IN'), ('other', 'JJ'), ('side', 'NN')]\n"
     ]
    }
   ],
   "source": [
    "tokenized_words= word_tokenize(sample_text)\n",
    "tag=pos_tag(tokenized_words)\n",
    "print(tag)"
   ]
  },
  {
   "cell_type": "code",
   "execution_count": 22,
   "id": "5bf17525",
   "metadata": {},
   "outputs": [
    {
     "name": "stdout",
     "output_type": "stream",
     "text": [
      "{'whom', 'y', 'our', 'how', 'my', 'when', 'too', 'out', \"don't\", 'then', 'weren', 'most', 'any', 'few', 'other', 'what', 'each', \"you've\", 'hasn', 'this', 'at', \"you'd\", 'm', 'myself', 'only', 'your', 'nor', 'the', 'ours', 'hadn', 'themselves', 'them', 'where', 'as', 't', 'will', 'by', 'he', \"should've\", 'having', 'those', 'not', \"weren't\", 'won', 'and', 'can', 'haven', 'during', \"isn't\", 'shouldn', 'same', 'into', 'herself', 'didn', \"that'll\", 'should', 'ourselves', 'down', 'for', 'their', 'so', 'up', 'because', 'had', \"hadn't\", 'be', 'both', 'doesn', 'you', 'am', 'about', 'needn', 'yours', 'did', 'just', 'ain', 'until', 's', 'these', \"doesn't\", \"needn't\", \"you'll\", \"shouldn't\", \"shan't\", 'off', 'no', 'over', 'under', 'she', 'don', 'isn', 'does', 'from', 'her', 'mustn', 'while', \"she's\", 'very', 'has', 'been', 'or', 'there', 'it', 'through', \"won't\", 'if', 'his', 'have', 'who', \"haven't\", 'which', 'its', 'shan', 'of', 'wasn', 'was', 'in', 'below', 'further', 'wouldn', 'aren', 'o', \"hasn't\", 'but', 'some', \"you're\", 'before', \"mightn't\", 'himself', 'once', 'theirs', \"didn't\", \"couldn't\", 'between', 'here', 'mightn', 'ma', 'than', 'i', 'again', 'against', 'we', 'll', 'such', 'itself', 'do', \"wasn't\", 'own', \"wouldn't\", 'me', 'on', 'after', 'all', 'they', 'that', 'more', 'yourself', 'to', 'were', 'now', 've', \"mustn't\", \"it's\", 'are', 'doing', 'above', 'hers', 'a', 'him', \"aren't\", 'is', 'd', 're', 'couldn', 'an', 'yourselves', 'being', 'why', 'with'}\n"
     ]
    }
   ],
   "source": [
    "# CC\tcoordinating conjunction\n",
    "# CD\tcardinal digit\n",
    "# DT\tdeterminer\n",
    "# EX\texistential there (like: \"there is\" ... think of it like \"there exists\")\n",
    "# FW\tforeign word\n",
    "# IN\tpreposition/subordinating conjunction\n",
    "# JJ\tadjective\t'big'\n",
    "# JJR\tadjective, comparative\t'bigger'\n",
    "# JJS\tadjective, superlative\t'biggest'\n",
    "# LS\tlist marker\t1)\n",
    "# MD\tmodal\tcould, will\n",
    "# NN\tnoun, singular 'desk'\n",
    "# NNS\tnoun plural\t'desks'\n",
    "# NNP\tproper noun, singular\t'Harrison'\n",
    "# NNPS\tproper noun, plural\t'Americans'\n",
    "# PDT\tpredeterminer\t'all the kids'\n",
    "# POS\tpossessive ending\tparent\\'s\n",
    "# PRP\tpersonal pronoun\tI, he, she\n",
    "# PRP$\tpossessive pronoun\tmy, his, hers\n",
    "# RB\tadverb\tvery, silently,\n",
    "# RBR\tadverb, comparative\tbetter\n",
    "# RBS\tadverb, superlative\tbest\n",
    "# RP\tparticle\tgive up\n",
    "# TO\tto\tgo 'to' the store.\n",
    "# UH\tinterjection\terrrrrrrrm\n",
    "# VB\tverb, base form\ttake\n",
    "# VBD\tverb, past tense\ttook\n",
    "# VBG\tverb, gerund/present participle\ttaking\n",
    "# VBN\tverb, past participle\ttaken\n",
    "# VBP\tverb, sing. present, non-3d\ttake\n",
    "# VBZ\tverb, 3rd person sing. present\ttakes\n",
    "# WDT\twh-determiner\twhich\n",
    "# WP\twh-pronoun\twho, what\n",
    "# WP$\tpossessive wh-pronoun\twhose\n",
    "# WRB\twh-abverb\twhere, when\n",
    "# stop_words=set(stopwords.words(\"english\"))\n",
    "# print(stop_words)"
   ]
  },
  {
   "cell_type": "code",
   "execution_count": 23,
   "id": "b202be2d",
   "metadata": {},
   "outputs": [],
   "source": [
    "with open(\"example.txt\",\"r\") as corpora:\n",
    "    sample_text=corpora.read()"
   ]
  },
  {
   "cell_type": "code",
   "execution_count": 26,
   "id": "f00bca8a",
   "metadata": {},
   "outputs": [
    {
     "name": "stdout",
     "output_type": "stream",
     "text": [
      "[('World', 'NNP'), ('War', 'NNP'), ('II', 'NNP'), ('(', '('), ('WWII', 'NNP'), ('or', 'CC'), ('WW2', 'NNP'), (')', ')'), (',', ','), ('also', 'RB'), ('known', 'VBN'), ('as', 'IN'), ('the', 'DT'), ('Second', 'NNP'), ('World', 'NNP'), ('War', 'NNP'), (',', ','), ('was', 'VBD'), ('a', 'DT'), ('global', 'JJ'), ('war', 'NN'), ('that', 'WDT'), ('lasted', 'VBD'), ('from', 'IN'), ('1939', 'CD'), ('to', 'TO'), ('1945', 'CD'), (',', ','), ('though', 'RB'), ('related', 'JJ'), ('conflicts', 'NNS'), ('began', 'VBD'), ('earlier', 'RBR'), ('.', '.')]\n",
      "[('It', 'PRP'), ('involved', 'VBD'), ('the', 'DT'), ('vast', 'JJ'), ('majority', 'NN'), ('of', 'IN'), ('the', 'DT'), ('world', 'NN'), (\"'s\", 'POS'), ('nationsâ€', 'JJ'), ('”', 'NN'), ('including', 'VBG'), ('all', 'DT'), ('of', 'IN'), ('the', 'DT'), ('great', 'JJ'), ('powersâ€', 'NN'), ('”', 'NNP'), ('eventually', 'RB'), ('forming', 'VBG'), ('two', 'CD'), ('opposing', 'VBG'), ('military', 'JJ'), ('alliances', 'NNS'), (':', ':'), ('the', 'DT'), ('Allies', 'NNS'), ('and', 'CC'), ('the', 'DT'), ('Axis', 'NNP'), ('.', '.')]\n",
      "[('It', 'PRP'), ('was', 'VBD'), ('the', 'DT'), ('most', 'RBS'), ('widespread', 'JJ'), ('war', 'NN'), ('in', 'IN'), ('history', 'NN'), (',', ','), ('and', 'CC'), ('directly', 'RB'), ('involved', 'VBD'), ('more', 'JJR'), ('than', 'IN'), ('100', 'CD'), ('million', 'CD'), ('people', 'NNS'), ('from', 'IN'), ('over', 'IN'), ('30', 'CD'), ('countries', 'NNS'), ('.', '.')]\n",
      "[('In', 'IN'), ('a', 'DT'), ('state', 'NN'), ('of', 'IN'), ('``', '``'), ('total', 'JJ'), ('war', 'NN'), (\"''\", \"''\"), (',', ','), ('the', 'DT'), ('major', 'JJ'), ('participants', 'NNS'), ('threw', 'VBD'), ('their', 'PRP$'), ('entire', 'JJ'), ('economic', 'JJ'), (',', ','), ('industrial', 'JJ'), (',', ','), ('and', 'CC'), ('scientific', 'JJ'), ('capabilities', 'NNS'), ('behind', 'IN'), ('the', 'DT'), ('war', 'NN'), ('effort', 'NN'), (',', ','), ('erasing', 'VBG'), ('the', 'DT'), ('distinction', 'NN'), ('between', 'IN'), ('civilian', 'JJ'), ('and', 'CC'), ('military', 'JJ'), ('resources', 'NNS'), ('.', '.')]\n",
      "[('Marked', 'VBN'), ('by', 'IN'), ('mass', 'JJ'), ('deaths', 'NNS'), ('of', 'IN'), ('civilians', 'NNS'), (',', ','), ('including', 'VBG'), ('the', 'DT'), ('Holocaust', 'NNP'), ('(', '('), ('in', 'IN'), ('which', 'WDT'), ('approximately', 'RB'), ('11', 'CD'), ('million', 'CD'), ('people', 'NNS'), ('were', 'VBD'), ('killed', 'VBN'), (')', ')'), ('and', 'CC'), ('the', 'DT'), ('strategic', 'JJ'), ('bombing', 'NN'), ('of', 'IN'), ('industrial', 'JJ'), ('and', 'CC'), ('population', 'NN'), ('centres', 'NNS'), ('(', '('), ('in', 'IN'), ('which', 'WDT'), ('approximately', 'RB'), ('one', 'CD'), ('million', 'CD'), ('were', 'VBD'), ('killed', 'VBN'), (',', ','), ('and', 'CC'), ('which', 'WDT'), ('included', 'VBD'), ('the', 'DT'), ('atomic', 'JJ'), ('bombings', 'NNS'), ('of', 'IN'), ('Hiroshima', 'NNP'), ('and', 'CC'), ('Nagasaki', 'NNP'), (')', ')'), (',', ','), ('it', 'PRP'), ('resulted', 'VBD'), ('in', 'IN'), ('an', 'DT'), ('estimated', 'JJ'), ('50', 'CD'), ('million', 'CD'), ('to', 'TO'), ('85', 'CD'), ('million', 'CD'), ('fatalities', 'NNS'), ('.', '.')]\n",
      "[('These', 'DT'), ('made', 'VBD'), ('World', 'NNP'), ('War', 'NNP'), ('II', 'NNP'), ('the', 'DT'), ('deadliest', 'JJS'), ('conflict', 'NN'), ('in', 'IN'), ('human', 'JJ'), ('history', 'NN'), ('.', '.')]\n",
      "[('The', 'DT'), ('Empire', 'NNP'), ('of', 'IN'), ('Japan', 'NNP'), ('aimed', 'VBD'), ('to', 'TO'), ('dominate', 'VB'), ('Asia', 'NNP'), ('and', 'CC'), ('the', 'DT'), ('Pacific', 'NNP'), ('and', 'CC'), ('was', 'VBD'), ('already', 'RB'), ('at', 'IN'), ('war', 'NN'), ('with', 'IN'), ('the', 'DT'), ('Republic', 'NNP'), ('of', 'IN'), ('China', 'NNP'), ('in', 'IN'), ('1937', 'CD'), (',', ','), ('but', 'CC'), ('the', 'DT'), ('world', 'NN'), ('war', 'NN'), ('is', 'VBZ'), ('generally', 'RB'), ('said', 'VBD'), ('to', 'TO'), ('have', 'VB'), ('begun', 'VBN'), ('on', 'IN'), ('1', 'CD'), ('September', 'NNP'), ('1939', 'CD'), ('with', 'IN'), ('the', 'DT'), ('invasion', 'NN'), ('of', 'IN'), ('Poland', 'NNP'), ('by', 'IN'), ('Germany', 'NNP'), ('and', 'CC'), ('subsequent', 'JJ'), ('declarations', 'NNS'), ('of', 'IN'), ('war', 'NN'), ('on', 'IN'), ('Germany', 'NNP'), ('by', 'IN'), ('France', 'NNP'), ('and', 'CC'), ('the', 'DT'), ('United', 'NNP'), ('Kingdom', 'NNP'), ('.', '.')]\n",
      "[('From', 'IN'), ('late', 'JJ'), ('1939', 'CD'), ('to', 'TO'), ('early', 'JJ'), ('1941', 'CD'), (',', ','), ('in', 'IN'), ('a', 'DT'), ('series', 'NN'), ('of', 'IN'), ('campaigns', 'NNS'), ('and', 'CC'), ('treaties', 'NNS'), (',', ','), ('Germany', 'NNP'), ('conquered', 'VBD'), ('or', 'CC'), ('controlled', 'VBD'), ('much', 'RB'), ('of', 'IN'), ('continental', 'JJ'), ('Europe', 'NNP'), (',', ','), ('and', 'CC'), ('formed', 'VBD'), ('the', 'DT'), ('Axis', 'NNP'), ('alliance', 'NN'), ('with', 'IN'), ('Italy', 'NNP'), ('and', 'CC'), ('Japan', 'NNP'), ('.', '.')]\n",
      "[('Based', 'VBN'), ('on', 'IN'), ('the', 'DT'), ('Molotovâ€', 'NNP'), ('“', 'NNP'), ('Ribbentrop', 'NNP'), ('Pact', 'NNP'), ('of', 'IN'), ('August', 'NNP'), ('1939', 'CD'), (',', ','), ('Germany', 'NNP'), ('and', 'CC'), ('the', 'DT'), ('Soviet', 'NNP'), ('Union', 'NNP'), ('partitioned', 'VBD'), ('and', 'CC'), ('annexed', 'JJ'), ('territories', 'NNS'), ('of', 'IN'), ('their', 'PRP$'), ('European', 'JJ'), ('neighbours', 'NNS'), (',', ','), ('Poland', 'NNP'), (',', ','), ('Finland', 'NNP'), (',', ','), ('Romania', 'NNP'), ('and', 'CC'), ('the', 'DT'), ('Baltic', 'NNP'), ('states', 'NNS'), ('.', '.')]\n",
      "[('For', 'IN'), ('a', 'DT'), ('year', 'NN'), ('starting', 'VBG'), ('in', 'IN'), ('late', 'JJ'), ('June', 'NNP'), ('1940', 'CD'), (',', ','), ('the', 'DT'), ('United', 'NNP'), ('Kingdom', 'NNP'), ('and', 'CC'), ('the', 'DT'), ('British', 'JJ'), ('Commonwealth', 'NNP'), ('were', 'VBD'), ('the', 'DT'), ('only', 'JJ'), ('Allied', 'NNP'), ('forces', 'NNS'), ('continuing', 'VBG'), ('the', 'DT'), ('fight', 'NN'), ('against', 'IN'), ('the', 'DT'), ('European', 'JJ'), ('Axis', 'NNP'), ('powers', 'NNS'), (',', ','), ('with', 'IN'), ('campaigns', 'NNS'), ('in', 'IN'), ('North', 'NNP'), ('Africa', 'NNP'), ('and', 'CC'), ('the', 'DT'), ('Horn', 'NNP'), ('of', 'IN'), ('Africa', 'NNP'), (',', ','), ('the', 'DT'), ('aerial', 'JJ'), ('Battle', 'NNP'), ('of', 'IN'), ('Britain', 'NNP'), ('and', 'CC'), ('the', 'DT'), ('Blitz', 'NNP'), ('bombing', 'NN'), ('campaign', 'NN'), (',', ','), ('as', 'RB'), ('well', 'RB'), ('as', 'IN'), ('the', 'DT'), ('long-running', 'JJ'), ('Battle', 'NNP'), ('of', 'IN'), ('the', 'DT'), ('Atlantic', 'NNP'), ('.', '.')]\n",
      "[('In', 'IN'), ('June', 'NNP'), ('1941', 'CD'), (',', ','), ('the', 'DT'), ('European', 'NNP'), ('Axis', 'NNP'), ('powers', 'NNS'), ('launched', 'VBD'), ('an', 'DT'), ('invasion', 'NN'), ('of', 'IN'), ('the', 'DT'), ('Soviet', 'NNP'), ('Union', 'NNP'), (',', ','), ('opening', 'VBG'), ('the', 'DT'), ('largest', 'JJS'), ('land', 'NN'), ('theatre', 'NN'), ('of', 'IN'), ('war', 'NN'), ('in', 'IN'), ('history', 'NN'), (',', ','), ('which', 'WDT'), ('trapped', 'VBD'), ('the', 'DT'), ('major', 'JJ'), ('part', 'NN'), ('of', 'IN'), ('the', 'DT'), ('Axis', 'NNP'), (\"'\", 'POS'), ('military', 'JJ'), ('forces', 'NNS'), ('into', 'IN'), ('a', 'DT'), ('war', 'NN'), ('of', 'IN'), ('attrition', 'NN'), ('.', '.')]\n",
      "[('In', 'IN'), ('December', 'NNP'), ('1941', 'CD'), (',', ','), ('Japan', 'NNP'), ('attacked', 'VBD'), ('the', 'DT'), ('United', 'NNP'), ('States', 'NNPS'), ('and', 'CC'), ('European', 'JJ'), ('territories', 'NNS'), ('in', 'IN'), ('the', 'DT'), ('Pacific', 'NNP'), ('Ocean', 'NNP'), (',', ','), ('and', 'CC'), ('quickly', 'RB'), ('conquered', 'VBD'), ('much', 'RB'), ('of', 'IN'), ('the', 'DT'), ('Western', 'NNP'), ('Pacific', 'NNP'), ('.', '.')]\n",
      "[('The', 'DT'), ('Axis', 'NNP'), ('advance', 'NN'), ('halted', 'VBN'), ('in', 'IN'), ('1942', 'CD'), ('when', 'WRB'), ('Japan', 'NNP'), ('lost', 'VBD'), ('the', 'DT'), ('critical', 'JJ'), ('Battle', 'NNP'), ('of', 'IN'), ('Midway', 'NNP'), (',', ','), ('near', 'IN'), ('Hawaii', 'NNP'), (',', ','), ('and', 'CC'), ('Germany', 'NNP'), ('was', 'VBD'), ('defeated', 'VBN'), ('in', 'IN'), ('North', 'NNP'), ('Africa', 'NNP'), ('and', 'CC'), ('then', 'RB'), (',', ','), ('decisively', 'RB'), (',', ','), ('at', 'IN'), ('Stalingrad', 'NNP'), ('in', 'IN'), ('the', 'DT'), ('Soviet', 'NNP'), ('Union', 'NNP'), ('.', '.')]\n",
      "[('In', 'IN'), ('1943', 'CD'), (',', ','), ('with', 'IN'), ('a', 'DT'), ('series', 'NN'), ('of', 'IN'), ('German', 'JJ'), ('defeats', 'NNS'), ('on', 'IN'), ('the', 'DT'), ('Eastern', 'NNP'), ('Front', 'NNP'), (',', ','), ('the', 'DT'), ('Allied', 'NNP'), ('invasion', 'NN'), ('of', 'IN'), ('Italy', 'NNP'), ('which', 'WDT'), ('brought', 'VBD'), ('about', 'IN'), ('Italian', 'JJ'), ('surrender', 'NN'), (',', ','), ('and', 'CC'), ('Allied', 'NNP'), ('victories', 'NNS'), ('in', 'IN'), ('the', 'DT'), ('Pacific', 'NNP'), (',', ','), ('the', 'DT'), ('Axis', 'NNP'), ('lost', 'VBD'), ('the', 'DT'), ('initiative', 'NN'), ('and', 'CC'), ('undertook', 'JJ'), ('strategic', 'JJ'), ('retreat', 'NN'), ('on', 'IN'), ('all', 'DT'), ('fronts', 'NNS'), ('.', '.')]\n",
      "[('In', 'IN'), ('1944', 'CD'), (',', ','), ('the', 'DT'), ('Western', 'JJ'), ('Allies', 'NNS'), ('invaded', 'VBN'), ('German-occupied', 'JJ'), ('France', 'NNP'), (',', ','), ('while', 'IN'), ('the', 'DT'), ('Soviet', 'NNP'), ('Union', 'NNP'), ('regained', 'VBD'), ('all', 'DT'), ('of', 'IN'), ('its', 'PRP$'), ('territorial', 'JJ'), ('losses', 'NNS'), ('and', 'CC'), ('invaded', 'VBN'), ('Germany', 'NNP'), ('and', 'CC'), ('its', 'PRP$'), ('allies', 'NNS'), ('.', '.')]\n",
      "[('During', 'IN'), ('1944', 'CD'), ('and', 'CC'), ('1945', 'CD'), ('the', 'DT'), ('Japanese', 'NNPS'), ('suffered', 'VBD'), ('major', 'JJ'), ('reverses', 'NNS'), ('in', 'IN'), ('mainland', 'NN'), ('Asia', 'NNP'), ('in', 'IN'), ('South', 'NNP'), ('Central', 'NNP'), ('China', 'NNP'), ('and', 'CC'), ('Burma', 'NNP'), (',', ','), ('while', 'IN'), ('the', 'DT'), ('Allies', 'NNS'), ('crippled', 'VBD'), ('the', 'DT'), ('Japanese', 'JJ'), ('Navy', 'NNP'), ('and', 'CC'), ('captured', 'VBD'), ('key', 'JJ'), ('Western', 'NNP'), ('Pacific', 'NNP'), ('islands', 'NNS'), ('.', '.')]\n",
      "[('The', 'DT'), ('war', 'NN'), ('in', 'IN'), ('Europe', 'NNP'), ('ended', 'VBD'), ('with', 'IN'), ('an', 'DT'), ('invasion', 'NN'), ('of', 'IN'), ('Germany', 'NNP'), ('by', 'IN'), ('the', 'DT'), ('Western', 'JJ'), ('Allies', 'NNS'), ('and', 'CC'), ('the', 'DT'), ('Soviet', 'NNP'), ('Union', 'NNP'), ('culminating', 'NN'), ('in', 'IN'), ('the', 'DT'), ('capture', 'NN'), ('of', 'IN'), ('Berlin', 'NNP'), ('by', 'IN'), ('Soviet', 'NNP'), ('and', 'CC'), ('Polish', 'JJ'), ('troops', 'NNS'), ('and', 'CC'), ('the', 'DT'), ('subsequent', 'JJ'), ('German', 'JJ'), ('unconditional', 'JJ'), ('surrender', 'NN'), ('on', 'IN'), ('8', 'CD'), ('May', 'NNP'), ('1945', 'CD'), ('.', '.')]\n",
      "[('Following', 'VBG'), ('the', 'DT'), ('Potsdam', 'NNP'), ('Declaration', 'NNP'), ('by', 'IN'), ('the', 'DT'), ('Allies', 'NNS'), ('on', 'IN'), ('26', 'CD'), ('July', 'NNP'), ('1945', 'CD'), ('and', 'CC'), ('the', 'DT'), ('refusal', 'NN'), ('of', 'IN'), ('Japan', 'NNP'), ('to', 'TO'), ('surrender', 'VB'), ('under', 'IN'), ('its', 'PRP$'), ('terms', 'NNS'), (',', ','), ('the', 'DT'), ('United', 'NNP'), ('States', 'NNPS'), ('dropped', 'VBD'), ('atomic', 'JJ'), ('bombs', 'NNS'), ('on', 'IN'), ('the', 'DT'), ('Japanese', 'JJ'), ('cities', 'NNS'), ('of', 'IN'), ('Hiroshima', 'NNP'), ('and', 'CC'), ('Nagasaki', 'NNP'), ('on', 'IN'), ('6', 'CD'), ('August', 'NNP'), ('and', 'CC'), ('9', 'CD'), ('August', 'NNP'), ('respectively', 'RB'), ('.', '.')]\n",
      "[('With', 'IN'), ('an', 'DT'), ('invasion', 'NN'), ('of', 'IN'), ('the', 'DT'), ('Japanese', 'JJ'), ('archipelago', 'JJ'), ('imminent', 'NN'), (',', ','), ('the', 'DT'), ('possibility', 'NN'), ('of', 'IN'), ('additional', 'JJ'), ('atomic', 'JJ'), ('bombings', 'NNS'), (',', ','), ('and', 'CC'), ('the', 'DT'), ('Soviet', 'NNP'), ('Union', 'NNP'), (\"'s\", 'POS'), ('declaration', 'NN'), ('of', 'IN'), ('war', 'NN'), ('on', 'IN'), ('Japan', 'NNP'), ('and', 'CC'), ('invasion', 'NN'), ('of', 'IN'), ('Manchuria', 'NNP'), (',', ','), ('Japan', 'NNP'), ('surrendered', 'VBD'), ('on', 'IN'), ('15', 'CD'), ('August', 'NNP'), ('1945', 'CD'), ('.', '.')]\n",
      "[('Thus', 'RB'), ('ended', 'VBD'), ('the', 'DT'), ('war', 'NN'), ('in', 'IN'), ('Asia', 'NNP'), (',', ','), ('cementing', 'VBG'), ('the', 'DT'), ('total', 'JJ'), ('victory', 'NN'), ('of', 'IN'), ('the', 'DT'), ('Allies', 'NNS'), ('.', '.')]\n",
      "[('World', 'NNP'), ('War', 'NNP'), ('II', 'NNP'), ('altered', 'VBD'), ('the', 'DT'), ('political', 'JJ'), ('alignment', 'NN'), ('and', 'CC'), ('social', 'JJ'), ('structure', 'NN'), ('of', 'IN'), ('the', 'DT'), ('world', 'NN'), ('.', '.')]\n",
      "[('The', 'DT'), ('United', 'NNP'), ('Nations', 'NNP'), ('(', '('), ('UN', 'NNP'), (')', ')'), ('was', 'VBD'), ('established', 'VBN'), ('to', 'TO'), ('foster', 'VB'), ('international', 'JJ'), ('co-operation', 'NN'), ('and', 'CC'), ('prevent', 'NN'), ('future', 'NN'), ('conflicts', 'NNS'), ('.', '.')]\n",
      "[('The', 'DT'), ('victorious', 'JJ'), ('great', 'JJ'), ('powersâ€', 'NN'), ('”', 'VBD'), ('the', 'DT'), ('United', 'NNP'), ('States', 'NNPS'), (',', ','), ('the', 'DT'), ('Soviet', 'NNP'), ('Union', 'NNP'), (',', ','), ('China', 'NNP'), (',', ','), ('the', 'DT'), ('United', 'NNP'), ('Kingdom', 'NNP'), (',', ','), ('and', 'CC'), ('Franceâ€', 'NNP'), ('”', 'NNP'), ('became', 'VBD'), ('the', 'DT'), ('permanent', 'JJ'), ('members', 'NNS'), ('of', 'IN'), ('the', 'DT'), ('United', 'NNP'), ('Nations', 'NNP'), ('Security', 'NNP'), ('Council', 'NNP'), ('.', '.')]\n",
      "[('The', 'DT'), ('Soviet', 'NNP'), ('Union', 'NNP'), ('and', 'CC'), ('the', 'DT'), ('United', 'NNP'), ('States', 'NNPS'), ('emerged', 'VBD'), ('as', 'IN'), ('rival', 'JJ'), ('superpowers', 'NNS'), (',', ','), ('setting', 'VBG'), ('the', 'DT'), ('stage', 'NN'), ('for', 'IN'), ('the', 'DT'), ('Cold', 'NNP'), ('War', 'NNP'), (',', ','), ('which', 'WDT'), ('lasted', 'VBD'), ('for', 'IN'), ('the', 'DT'), ('next', 'JJ'), ('46', 'CD'), ('years', 'NNS'), ('.', '.')]\n",
      "[('Meanwhile', 'RB'), (',', ','), ('the', 'DT'), ('influence', 'NN'), ('of', 'IN'), ('European', 'JJ'), ('great', 'JJ'), ('powers', 'NNS'), ('waned', 'VBD'), (',', ','), ('while', 'IN'), ('the', 'DT'), ('decolonisation', 'NN'), ('of', 'IN'), ('Asia', 'NNP'), ('and', 'CC'), ('Africa', 'NNP'), ('began', 'VBD'), ('.', '.')]\n",
      "[('Most', 'JJS'), ('countries', 'NNS'), ('whose', 'WP$'), ('industries', 'NNS'), ('had', 'VBD'), ('been', 'VBN'), ('damaged', 'VBN'), ('moved', 'VBN'), ('towards', 'NNS'), ('economic', 'JJ'), ('recovery', 'NN'), ('.', '.')]\n",
      "[('Political', 'JJ'), ('integration', 'NN'), (',', ','), ('especially', 'RB'), ('in', 'IN'), ('Europe', 'NNP'), (',', ','), ('emerged', 'VBD'), ('as', 'IN'), ('an', 'DT'), ('effort', 'NN'), ('to', 'TO'), ('end', 'VB'), ('pre-war', 'JJ'), ('enmities', 'NNS'), ('and', 'CC'), ('to', 'TO'), ('create', 'VB'), ('a', 'DT'), ('common', 'JJ'), ('identity', 'NN'), ('.', '.')]\n"
     ]
    }
   ],
   "source": [
    "tokenized_sentences=sent_tokenize(sample_text)\n",
    "for sentence in tokenized_sentences:\n",
    "    tokenized_words= word_tokenize(sentence)\n",
    "    \n",
    "#     filtered_sentence= []\n",
    "# for word in tokenized_words:\n",
    "#     if word not in stop_words:\n",
    "#         filtered_sentence.append(word)\n",
    "# print(filtered_sentence)\n",
    "    tag= pos_tag(tokenized_words)\n",
    "    print(tag)"
   ]
  },
  {
   "cell_type": "code",
   "execution_count": null,
   "id": "0a653c2e",
   "metadata": {},
   "outputs": [],
   "source": []
  }
 ],
 "metadata": {
  "kernelspec": {
   "display_name": "Python 3 (ipykernel)",
   "language": "python",
   "name": "python3"
  },
  "language_info": {
   "codemirror_mode": {
    "name": "ipython",
    "version": 3
   },
   "file_extension": ".py",
   "mimetype": "text/x-python",
   "name": "python",
   "nbconvert_exporter": "python",
   "pygments_lexer": "ipython3",
   "version": "3.11.5"
  }
 },
 "nbformat": 4,
 "nbformat_minor": 5
}
