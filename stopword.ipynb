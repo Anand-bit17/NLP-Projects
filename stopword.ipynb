{
 "cells": [
  {
   "cell_type": "code",
   "execution_count": 4,
   "id": "0f41348f",
   "metadata": {},
   "outputs": [],
   "source": [
    "import nltk\n",
    "from nltk.corpus import stopwords\n",
    "from nltk import word_tokenize"
   ]
  },
  {
   "cell_type": "code",
   "execution_count": 9,
   "id": "9420a7d7",
   "metadata": {},
   "outputs": [],
   "source": [
    "sample_text=\"stopwords are a pretty cool way of getting rid of words that we dont want\""
   ]
  },
  {
   "cell_type": "code",
   "execution_count": 10,
   "id": "b7219261",
   "metadata": {},
   "outputs": [],
   "source": [
    "# tokenized_words= word_tokenize(sample_text)"
   ]
  },
  {
   "cell_type": "code",
   "execution_count": 11,
   "id": "59353905",
   "metadata": {},
   "outputs": [
    {
     "name": "stdout",
     "output_type": "stream",
     "text": [
      "{'needn', 'as', \"needn't\", 'just', \"mustn't\", 'during', 'out', 'not', 'why', 'few', 'on', 'doing', 'myself', 'at', 'them', 'which', 'or', 'while', 'below', 'how', 'won', 'd', 'mightn', 'over', 'the', 'm', \"doesn't\", 'will', 'have', 'other', 'had', 's', 'when', 'should', 'a', 'to', \"won't\", 'ourselves', 'himself', 'but', \"you're\", 'been', 'above', 'any', 'o', 'hasn', 'don', \"wasn't\", 'more', \"should've\", 'doesn', 'from', 'be', \"wouldn't\", 'own', 'an', 'by', 'each', 'only', 'do', 'being', 'most', 'your', 'haven', 'has', 'theirs', 'me', 'he', \"you'll\", 'our', 'herself', 'of', 'yourself', 'didn', 'him', 'both', 'before', 'and', 'so', 'if', 'shan', \"isn't\", 'they', 'yours', \"mightn't\", 'that', 'themselves', 'weren', 'my', 'itself', 'having', 'can', 'y', 'nor', 'mustn', 'too', 'what', 'it', \"hasn't\", 'where', 'couldn', 'until', 'against', 'we', \"you've\", 'wouldn', 'now', 'very', 'wasn', 'hers', 'i', \"don't\", 'she', 're', 'such', 'shouldn', 'its', \"haven't\", \"hadn't\", 'whom', 'in', 'are', 'you', 'once', 'up', \"it's\", \"couldn't\", 'these', 'was', 'all', 'for', 'ours', 'were', 'aren', 't', 'yourselves', 'ain', 'further', 'after', 'is', 'ma', 'their', 'those', 'between', 'am', 've', 'his', 'into', 'off', \"shan't\", 'about', 'then', \"didn't\", 'who', 'some', 'under', 'hadn', \"aren't\", 'same', \"weren't\", 'there', \"shouldn't\", 'with', \"that'll\", 'because', 'down', 'no', 'here', 'isn', 'through', 'than', \"you'd\", 'this', \"she's\", 'll', 'did', 'her', 'does', 'again'}\n"
     ]
    }
   ],
   "source": [
    "stop_words=set(stopwords.words(\"english\"))\n",
    "print(stop_words)"
   ]
  },
  {
   "cell_type": "code",
   "execution_count": 12,
   "id": "5222d6c6",
   "metadata": {},
   "outputs": [],
   "source": [
    "tokenized_words= word_tokenize(sample_text)\n",
    "filtered_sentence= []"
   ]
  },
  {
   "cell_type": "code",
   "execution_count": 16,
   "id": "00774814",
   "metadata": {},
   "outputs": [
    {
     "name": "stdout",
     "output_type": "stream",
     "text": [
      "['stopwords', 'pretty', 'cool', 'way', 'getting', 'rid', 'words', 'dont', 'want']\n"
     ]
    }
   ],
   "source": [
    "for word in tokenized_words:\n",
    "    if word not in stop_words:\n",
    "        filtered_sentence.append(word)\n",
    "print(filtered_sentence)"
   ]
  },
  {
   "cell_type": "code",
   "execution_count": 17,
   "id": "ab87f072",
   "metadata": {},
   "outputs": [
    {
     "name": "stdout",
     "output_type": "stream",
     "text": [
      "['stopwords', 'pretty', 'cool', 'way', 'getting', 'rid', 'words', 'dont', 'want']\n"
     ]
    }
   ],
   "source": [
    "filtered_sentence= []\n",
    "for word in tokenized_words:\n",
    "    if word not in stop_words:\n",
    "        filtered_sentence.append(word)\n",
    "print(filtered_sentence)"
   ]
  },
  {
   "cell_type": "code",
   "execution_count": null,
   "id": "292563db",
   "metadata": {},
   "outputs": [],
   "source": []
  }
 ],
 "metadata": {
  "kernelspec": {
   "display_name": "Python 3 (ipykernel)",
   "language": "python",
   "name": "python3"
  },
  "language_info": {
   "codemirror_mode": {
    "name": "ipython",
    "version": 3
   },
   "file_extension": ".py",
   "mimetype": "text/x-python",
   "name": "python",
   "nbconvert_exporter": "python",
   "pygments_lexer": "ipython3",
   "version": "3.11.5"
  }
 },
 "nbformat": 4,
 "nbformat_minor": 5
}
